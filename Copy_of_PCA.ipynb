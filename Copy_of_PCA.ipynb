{
  "nbformat": 4,
  "nbformat_minor": 0,
  "metadata": {
    "kernelspec": {
      "display_name": "Python 3",
      "language": "python",
      "name": "python3"
    },
    "language_info": {
      "codemirror_mode": {
        "name": "ipython",
        "version": 3
      },
      "file_extension": ".py",
      "mimetype": "text/x-python",
      "name": "python",
      "nbconvert_exporter": "python",
      "pygments_lexer": "ipython3",
      "version": "3.7.6"
    },
    "colab": {
      "name": "Copy of PCA.ipynb",
      "provenance": []
    }
  },
  "cells": [
    {
      "cell_type": "code",
      "metadata": {
        "id": "-V4w3KJE3-u6"
      },
      "source": [
        "import numpy as np\n",
        "import pandas as pd\n",
        "import matplotlib.pyplot as plt\n",
        "import seaborn as sns"
      ],
      "execution_count": null,
      "outputs": []
    },
    {
      "cell_type": "markdown",
      "metadata": {
        "id": "tQz6GFLt3-vG"
      },
      "source": [
        "![1_QUOj_W3-DPeW7oBRgq2Iig.png](attachment:1_QUOj_W3-DPeW7oBRgq2Iig.png)"
      ]
    },
    {
      "cell_type": "code",
      "metadata": {
        "id": "gLx8sjHs3-vI"
      },
      "source": [
        "import pandas as pd"
      ],
      "execution_count": null,
      "outputs": []
    },
    {
      "cell_type": "code",
      "metadata": {
        "id": "j8Zi7iq-3-vI"
      },
      "source": [
        "df=pd.read_csv(r\"E:\\Data\\iris.csv\")"
      ],
      "execution_count": null,
      "outputs": []
    },
    {
      "cell_type": "code",
      "metadata": {
        "id": "t4FDLYVx3-vJ",
        "outputId": "441bf948-633c-4a88-a56c-bdeb821d2d13"
      },
      "source": [
        "df.columns"
      ],
      "execution_count": null,
      "outputs": [
        {
          "output_type": "execute_result",
          "data": {
            "text/plain": [
              "Index(['sepal_length', 'sepal_width', 'petal_length', 'petal_width',\n",
              "       'species'],\n",
              "      dtype='object')"
            ]
          },
          "metadata": {
            "tags": []
          },
          "execution_count": 18
        }
      ]
    },
    {
      "cell_type": "code",
      "metadata": {
        "id": "iliRzCmb3-vK"
      },
      "source": [
        "df=df.drop(\"species\",axis=1)"
      ],
      "execution_count": null,
      "outputs": []
    },
    {
      "cell_type": "code",
      "metadata": {
        "id": "EcZIT_hX3-vK",
        "outputId": "a905577c-ff7b-43a9-c8a5-34b2b1671439"
      },
      "source": [
        "df.shape"
      ],
      "execution_count": null,
      "outputs": [
        {
          "output_type": "execute_result",
          "data": {
            "text/plain": [
              "(150, 4)"
            ]
          },
          "metadata": {
            "tags": []
          },
          "execution_count": 31
        }
      ]
    },
    {
      "cell_type": "code",
      "metadata": {
        "id": "eHvGvoYg3-vL"
      },
      "source": [
        "cov_mat=df.cov()"
      ],
      "execution_count": null,
      "outputs": []
    },
    {
      "cell_type": "code",
      "metadata": {
        "id": "PF92m3FU3-vM",
        "outputId": "4126e8e3-a59b-4a1c-ea59-06f8ffea11c1"
      },
      "source": [
        "cov_mat.values"
      ],
      "execution_count": null,
      "outputs": [
        {
          "output_type": "execute_result",
          "data": {
            "text/plain": [
              "array([[ 0.68569351, -0.042434  ,  1.27431544,  0.51627069],\n",
              "       [-0.042434  ,  0.18997942, -0.32965638, -0.12163937],\n",
              "       [ 1.27431544, -0.32965638,  3.11627785,  1.2956094 ],\n",
              "       [ 0.51627069, -0.12163937,  1.2956094 ,  0.58100626]])"
            ]
          },
          "metadata": {
            "tags": []
          },
          "execution_count": 26
        }
      ]
    },
    {
      "cell_type": "code",
      "metadata": {
        "id": "VGJyEwjv3-vM"
      },
      "source": [
        "eigen_val,eigen_vector=np.linalg.eig(cov_mat.values)"
      ],
      "execution_count": null,
      "outputs": []
    },
    {
      "cell_type": "code",
      "metadata": {
        "id": "lK_78Cfw3-vN",
        "outputId": "3b2d20cd-2454-4602-d487-f7a0275a328f"
      },
      "source": [
        "eigen_vector"
      ],
      "execution_count": null,
      "outputs": [
        {
          "output_type": "execute_result",
          "data": {
            "text/plain": [
              "array([[ 0.36138659, -0.65658877, -0.58202985,  0.31548719],\n",
              "       [-0.08452251, -0.73016143,  0.59791083, -0.3197231 ],\n",
              "       [ 0.85667061,  0.17337266,  0.07623608, -0.47983899],\n",
              "       [ 0.3582892 ,  0.07548102,  0.54583143,  0.75365743]])"
            ]
          },
          "metadata": {
            "tags": []
          },
          "execution_count": 28
        }
      ]
    },
    {
      "cell_type": "code",
      "metadata": {
        "id": "w4LYN_k53-vO",
        "outputId": "cbef53d3-623a-49a1-fecc-57d52ed99442"
      },
      "source": [
        "eigen_val"
      ],
      "execution_count": null,
      "outputs": [
        {
          "output_type": "execute_result",
          "data": {
            "text/plain": [
              "array([4.22824171, 0.24267075, 0.0782095 , 0.02383509])"
            ]
          },
          "metadata": {
            "tags": []
          },
          "execution_count": 29
        }
      ]
    },
    {
      "cell_type": "code",
      "metadata": {
        "id": "QJ-KdGyE3-vO",
        "outputId": "7fee04db-4b53-4cd5-e6ec-4c2983498684"
      },
      "source": [
        "a=eigen_vector[:,:3]\n",
        "a.shape"
      ],
      "execution_count": null,
      "outputs": [
        {
          "output_type": "execute_result",
          "data": {
            "text/plain": [
              "(4, 3)"
            ]
          },
          "metadata": {
            "tags": []
          },
          "execution_count": 56
        }
      ]
    },
    {
      "cell_type": "code",
      "metadata": {
        "id": "rGNDPWQG3-vP",
        "outputId": "d6b5e831-00cb-4bdf-ea1d-fa71fa69cc2e"
      },
      "source": [
        "a"
      ],
      "execution_count": null,
      "outputs": [
        {
          "output_type": "execute_result",
          "data": {
            "text/plain": [
              "array([[ 0.36138659, -0.65658877, -0.58202985],\n",
              "       [-0.08452251, -0.73016143,  0.59791083],\n",
              "       [ 0.85667061,  0.17337266,  0.07623608],\n",
              "       [ 0.3582892 ,  0.07548102,  0.54583143]])"
            ]
          },
          "metadata": {
            "tags": []
          },
          "execution_count": 57
        }
      ]
    },
    {
      "cell_type": "code",
      "metadata": {
        "id": "n9FYmkkz3-vQ",
        "outputId": "e23e97a8-4c9b-459e-ffb8-12c06693a2b7"
      },
      "source": [
        "a.shape"
      ],
      "execution_count": null,
      "outputs": [
        {
          "output_type": "execute_result",
          "data": {
            "text/plain": [
              "(4, 3)"
            ]
          },
          "metadata": {
            "tags": []
          },
          "execution_count": 58
        }
      ]
    },
    {
      "cell_type": "code",
      "metadata": {
        "id": "FmzLAGp03-vR"
      },
      "source": [
        "d=np.dot(df,a)"
      ],
      "execution_count": null,
      "outputs": []
    },
    {
      "cell_type": "code",
      "metadata": {
        "id": "tRCHUBMu3-vR",
        "outputId": "7e0fe4dc-82be-42da-d9e0-40789271ee7d"
      },
      "source": [
        "d.shape"
      ],
      "execution_count": null,
      "outputs": [
        {
          "output_type": "execute_result",
          "data": {
            "text/plain": [
              "(150, 3)"
            ]
          },
          "metadata": {
            "tags": []
          },
          "execution_count": 60
        }
      ]
    },
    {
      "cell_type": "code",
      "metadata": {
        "id": "GuCv8D9G3-vS"
      },
      "source": [
        ""
      ],
      "execution_count": null,
      "outputs": []
    },
    {
      "cell_type": "code",
      "metadata": {
        "id": "2hAqgw_s3-vS"
      },
      "source": [
        "from sklearn.decomposition import PCA\n"
      ],
      "execution_count": null,
      "outputs": []
    },
    {
      "cell_type": "code",
      "metadata": {
        "id": "wS-NcNE93-vT"
      },
      "source": [
        "algo=PCA(n_components=3)"
      ],
      "execution_count": null,
      "outputs": []
    },
    {
      "cell_type": "code",
      "metadata": {
        "id": "c-Xkyr6u3-vU",
        "outputId": "8aa9c7df-023e-458d-be81-969f3a2b1941"
      },
      "source": [
        "algo.fit(df)"
      ],
      "execution_count": null,
      "outputs": [
        {
          "output_type": "execute_result",
          "data": {
            "text/plain": [
              "PCA(copy=True, iterated_power='auto', n_components=3, random_state=None,\n",
              "    svd_solver='auto', tol=0.0, whiten=False)"
            ]
          },
          "metadata": {
            "tags": []
          },
          "execution_count": 79
        }
      ]
    },
    {
      "cell_type": "code",
      "metadata": {
        "id": "3s8BVp0P3-vU"
      },
      "source": [
        "df1=algo.transform(df)"
      ],
      "execution_count": null,
      "outputs": []
    },
    {
      "cell_type": "code",
      "metadata": {
        "id": "NT8FkGtV3-vV",
        "outputId": "74c730b7-68a3-4e93-84bc-5e34975f061a"
      },
      "source": [
        "df1.shape"
      ],
      "execution_count": null,
      "outputs": [
        {
          "output_type": "execute_result",
          "data": {
            "text/plain": [
              "(150, 3)"
            ]
          },
          "metadata": {
            "tags": []
          },
          "execution_count": 81
        }
      ]
    },
    {
      "cell_type": "code",
      "metadata": {
        "id": "jaPXcbFi3-vV",
        "outputId": "6ab41ad4-8ba7-48e1-8ffe-4d37df6a37e7"
      },
      "source": [
        "algo.explained_variance_ratio_"
      ],
      "execution_count": null,
      "outputs": [
        {
          "output_type": "execute_result",
          "data": {
            "text/plain": [
              "array([0.92461872, 0.05306648, 0.01710261])"
            ]
          },
          "metadata": {
            "tags": []
          },
          "execution_count": 82
        }
      ]
    },
    {
      "cell_type": "code",
      "metadata": {
        "id": "p5PIzS1n3-vW",
        "outputId": "555419a2-c816-438b-9c37-d5f65763ba09"
      },
      "source": [
        "algo1=PCA(0.95)\n",
        "algo1.fit(df)\n"
      ],
      "execution_count": null,
      "outputs": [
        {
          "output_type": "execute_result",
          "data": {
            "text/plain": [
              "PCA(copy=True, iterated_power='auto', n_components=0.95, random_state=None,\n",
              "    svd_solver='auto', tol=0.0, whiten=False)"
            ]
          },
          "metadata": {
            "tags": []
          },
          "execution_count": 97
        }
      ]
    },
    {
      "cell_type": "code",
      "metadata": {
        "id": "uf2F_gPY3-vW",
        "outputId": "20f933c8-8c81-44f4-bbe2-eb941f31e5fa"
      },
      "source": [
        "algo1.n_components_"
      ],
      "execution_count": null,
      "outputs": [
        {
          "output_type": "execute_result",
          "data": {
            "text/plain": [
              "2"
            ]
          },
          "metadata": {
            "tags": []
          },
          "execution_count": 98
        }
      ]
    },
    {
      "cell_type": "code",
      "metadata": {
        "id": "8-G5wuxu3-vX"
      },
      "source": [
        ""
      ],
      "execution_count": null,
      "outputs": []
    }
  ]
}